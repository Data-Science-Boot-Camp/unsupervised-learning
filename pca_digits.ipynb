{
 "cells": [
  {
   "attachments": {},
   "cell_type": "markdown",
   "metadata": {},
   "source": [
    "## Principal Component Analysis (PCA)"
   ]
  },
  {
   "cell_type": "code",
   "execution_count": 3,
   "metadata": {},
   "outputs": [],
   "source": [
    "import numpy as np\n",
    "import matplotlib.pyplot as plt\n",
    "from sklearn.datasets import load_digits\n",
    "from sklearn.decomposition import PCA"
   ]
  },
  {
   "cell_type": "code",
   "execution_count": 4,
   "metadata": {},
   "outputs": [],
   "source": [
    "# Step 1: Load the digits dataset\n",
    "digits = load_digits()\n",
    "X = digits.data\n",
    "y = digits.target"
   ]
  },
  {
   "cell_type": "code",
   "execution_count": 10,
   "metadata": {},
   "outputs": [
    {
     "data": {
      "text/plain": [
       "((1797, 64), array([0, 1, 2, 3, 4, 5, 6, 7, 8, 9]))"
      ]
     },
     "execution_count": 10,
     "metadata": {},
     "output_type": "execute_result"
    }
   ],
   "source": [
    "n_digits = X.shape[0]\n",
    "X.shape, np.unique(y)"
   ]
  },
  {
   "cell_type": "code",
   "execution_count": 18,
   "metadata": {},
   "outputs": [
    {
     "data": {
      "image/png": "[encoded data removed]",
      "text/plain": [
       "<Figure size 1152x576 with 4 Axes>"
      ]
     },
     "metadata": {
      "needs_background": "light"
     },
     "output_type": "display_data"
    }
   ],
   "source": [
    "# Step 2: Visualize some digits\n",
    "fig, axs = plt.subplots(\n",
    "    1, 4,\n",
    "    figsize=(16, 8)\n",
    ")\n",
    "\n",
    "random_digits = np.random.randint(0, n_digits, 4)\n",
    "\n",
    "for i, ax in enumerate(axs.flatten()):\n",
    "    n = random_digits[i]\n",
    "    ax.imshow(X[n].reshape(8, 8), cmap='gray')\n",
    "    ax.axis('off')\n",
    "    ax.set_title(f'Digit {y[n]}')"
   ]
  },
  {
   "cell_type": "code",
   "execution_count": 12,
   "metadata": {},
   "outputs": [
    {
     "name": "stdout",
     "output_type": "stream",
     "text": [
      "Number of components: 13\n"
     ]
    }
   ],
   "source": [
    "# Step 3: Perform PCA on the digits dataset\n",
    "# Keep components explaining 80% of variance\n",
    "pca = PCA(n_components=0.80)\n",
    "pca.fit(X)\n",
    "X_pca = pca.transform(X)\n",
    "\n",
    "# Step 4: Take the principal components that explain 80% of the variance\n",
    "n_components = X_pca.shape[1]\n",
    "print(f'Number of components: {n_components}')"
   ]
  },
  {
   "attachments": {},
   "cell_type": "markdown",
   "metadata": {},
   "source": [
    "### Recontructed digit"
   ]
  },
  {
   "cell_type": "code",
   "execution_count": 15,
   "metadata": {},
   "outputs": [
    {
     "data": {
      "text/plain": [
       "Text(0.5, 1.0, 'Reconstructed Digit [4]')"
      ]
     },
     "execution_count": 15,
     "metadata": {},
     "output_type": "execute_result"
    },
    {
     "data": {
      "image/png": "[encoded data removed]",
      "text/plain": [
       "<Figure size 720x576 with 2 Axes>"
      ]
     },
     "metadata": {
      "needs_background": "light"
     },
     "output_type": "display_data"
    }
   ],
   "source": [
    "# Step 5: Show a grid of original and reconstructed digits\n",
    "fig, axs = plt.subplots(\n",
    "    1, 2,\n",
    "    figsize=(10, 8)\n",
    ")\n",
    "\n",
    "n = np.random.randint(0, n_digits, 1)\n",
    "\n",
    "# Original digit\n",
    "axs[0].imshow(X[n].reshape(8, 8), cmap='gray')\n",
    "axs[0].axis('off')\n",
    "axs[0].set_title(f'Original Digit {y[n]}')\n",
    "\n",
    "# Reconstructed digit using PCA components\n",
    "\n",
    "digit_reconstructed = pca.inverse_transform(X_pca[n])\n",
    "\n",
    "axs[1].imshow(digit_reconstructed.reshape(8, 8), cmap='gray')\n",
    "axs[1].axis('off')\n",
    "axs[1].set_title(f'Reconstructed Digit {y[n]}')"
   ]
  },
  {
   "attachments": {},
   "cell_type": "markdown",
   "metadata": {},
   "source": [
    "### Visualization"
   ]
  },
  {
   "cell_type": "code",
   "execution_count": null,
   "metadata": {},
   "outputs": [],
   "source": []
  }
 ],
 "metadata": {
  "kernelspec": {
   "display_name": "Python 3",
   "language": "python",
   "name": "python3"
  },
  "language_info": {
   "codemirror_mode": {
    "name": "ipython",
    "version": 3
   },
   "file_extension": ".py",
   "mimetype": "text/x-python",
   "name": "python",
   "nbconvert_exporter": "python",
   "pygments_lexer": "ipython3",
   "version": "3.10.6"
  },
  "orig_nbformat": 4
 },
 "nbformat": 4,
 "nbformat_minor": 2
}
